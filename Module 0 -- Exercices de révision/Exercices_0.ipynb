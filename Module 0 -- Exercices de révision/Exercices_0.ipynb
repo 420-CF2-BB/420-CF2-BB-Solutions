{
 "cells": [
  {
   "cell_type": "code",
   "execution_count": 53,
   "id": "c7de5a7c",
   "metadata": {},
   "outputs": [],
   "source": [
    "#@title Importations\n",
    "\n",
    "import random\n",
    "import matplotlib.pyplot as plt"
   ]
  },
  {
   "cell_type": "code",
   "execution_count": null,
   "id": "cea78fa2",
   "metadata": {},
   "outputs": [],
   "source": [
    "#@title Exercice 0.1\n",
    "\n",
    "germe_valide = False\n",
    "while not germe_valide:\n",
    "    germe = int(input(\"Entrez le germe aléatoire (entre 1 et 100)\"))\n",
    "    germe_valide = germe >= 1 and germe <= 100\n",
    "\n",
    "random.seed(germe)\n",
    "\n",
    "valeurs = []\n",
    "for i in range(1000):\n",
    "    valeur = random.randint(-1000, 999)\n",
    "    valeurs.append(valeur)"
   ]
  },
  {
   "cell_type": "code",
   "execution_count": 55,
   "id": "2a16bbb6",
   "metadata": {},
   "outputs": [
    {
     "name": "stdout",
     "output_type": "stream",
     "text": [
      "Il y a 499 valeurs en bas de 30\n"
     ]
    }
   ],
   "source": [
    "#@title Exercice 0.2\n",
    "\n",
    "def compter_inferieurs(liste_entiers, valeur_maximale):\n",
    "    nombre_inferieurs = 0\n",
    "    for valeur in liste_entiers:\n",
    "        if valeur < valeur_maximale:\n",
    "            nombre_inferieurs += 1\n",
    "    return nombre_inferieurs\n",
    "\n",
    "nombre_valeurs = compter_inferieurs(valeurs, 30)\n",
    "print(f\"Il y a {nombre_valeurs} valeurs en bas de 30\")"
   ]
  },
  {
   "cell_type": "code",
   "execution_count": 56,
   "id": "f1c35af0",
   "metadata": {},
   "outputs": [
    {
     "name": "stdout",
     "output_type": "stream",
     "text": [
      "Il y a 518 valeurs positives et 482 valeurs négatives.\n"
     ]
    }
   ],
   "source": [
    "#@title Exercice 0.3\n",
    "\n",
    "def separer_liste(originale, positifs, negatifs):\n",
    "    for valeur in originale:\n",
    "        if valeur < 0:\n",
    "            negatifs.append(valeur)\n",
    "        else:\n",
    "            positifs.append(valeur)\n",
    "\n",
    "valeurs_positives = []\n",
    "valeurs_negatives = []\n",
    "separer_liste(valeurs, valeurs_positives, valeurs_negatives)\n",
    "\n",
    "print(f\"Il y a {len(valeurs_positives)} valeurs positives et {len(valeurs_negatives)} valeurs négatives.\")"
   ]
  },
  {
   "cell_type": "code",
   "execution_count": 57,
   "id": "5395036b",
   "metadata": {},
   "outputs": [],
   "source": [
    "#@title Exercice 0.4\n",
    "\n",
    "with open(\"positives.txt\", \"w\") as fichier_positif:\n",
    "    for valeur in valeurs_positives:\n",
    "        print(valeur, file=fichier_positif)\n",
    "\n",
    "with open(\"negatives.txt\", \"w\") as fichier_negatifs:\n",
    "    for valeur in valeurs_negatives:\n",
    "        print(valeur, file=fichier_negatifs)\n"
   ]
  },
  {
   "cell_type": "code",
   "execution_count": 58,
   "id": "661bb04d",
   "metadata": {},
   "outputs": [],
   "source": [
    "#@title Exercice 0.5\n",
    "\n",
    "def enlever_doublons(fichier_entiers):\n",
    "    valeur_retenus = []\n",
    "    with open(fichier_entiers) as fic:\n",
    "        for ligne in fic:\n",
    "            valeur = int(ligne)\n",
    "            if valeur not in valeur_retenus:\n",
    "                valeur_retenus.append(valeur)\n",
    "    \n",
    "    position_point = fichier_entiers.index(\".\")\n",
    "    extension = fichier_entiers[position_point+1:]\n",
    "    nouveau_nom = fichier_entiers[:position_point] + \"_singleton \"+ \".\" + extension\n",
    "\n",
    "    with open(nouveau_nom, \"w\") as nouveau_fic:\n",
    "        for valeur in valeur_retenus:\n",
    "            print(valeur, file=nouveau_fic)\n",
    "\n",
    "enlever_doublons(\"positives.txt\")\n",
    "enlever_doublons(\"negatives.txt\")\n",
    "\n",
    "\n"
   ]
  },
  {
   "cell_type": "code",
   "execution_count": 59,
   "id": "b9b96446",
   "metadata": {},
   "outputs": [
    {
     "data": {
      "image/png": "[encoded data removed]",
      "text/plain": [
       "<Figure size 800x800 with 1 Axes>"
      ]
     },
     "metadata": {},
     "output_type": "display_data"
    }
   ],
   "source": [
    "#@title Exercice 0.6\n",
    "\n",
    "labels = [str(x) for x in range(-1000, 1000, 100)]\n",
    "quantites = [0] * 20   # Pour partager les valeurs, de -1000 à 1000, par tranche de 100\n",
    "\n",
    "for valeur in valeurs:\n",
    "    indice = (valeur + 1000) // 100    # -1000 est à l'indice 0, -901 est à l'indice 0, -900 à l'indice 1... et 900 à 999 à l'indice 19\n",
    "    quantites[indice] = quantites[indice]  + 1\n",
    "\n",
    "plt.figure(figsize=(8,8))\n",
    "plt.title(f\"Distribution avec le germe aléatoire {germe}\")\n",
    "plt.bar(labels, quantites)\n",
    "plt.xticks(fontsize=8)\n",
    "\n",
    "plt.show()"
   ]
  }
 ],
 "metadata": {
  "kernelspec": {
   "display_name": "Python 3",
   "language": "python",
   "name": "python3"
  },
  "language_info": {
   "codemirror_mode": {
    "name": "ipython",
    "version": 3
   },
   "file_extension": ".py",
   "mimetype": "text/x-python",
   "name": "python",
   "nbconvert_exporter": "python",
   "pygments_lexer": "ipython3",
   "version": "3.13.0"
  }
 },
 "nbformat": 4,
 "nbformat_minor": 5
}
