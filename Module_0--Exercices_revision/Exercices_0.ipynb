{
 "cells": [
  {
   "cell_type": "code",
   "execution_count": 1,
   "id": "c7de5a7c",
   "metadata": {},
   "outputs": [],
   "source": [
    "#@title Importations\n",
    "\n",
    "import random\n",
    "import matplotlib.pyplot as plt"
   ]
  },
  {
   "cell_type": "code",
   "execution_count": 2,
   "id": "cea78fa2",
   "metadata": {},
   "outputs": [],
   "source": [
    "#@title Exercice 0.1\n",
    "\n",
    "# Lecture d'un germe aléatoire entre 1 et 100\n",
    "germe_valide = False\n",
    "while not germe_valide:\n",
    "    germe = int(input(\"Entrez le germe aléatoire (entre 1 et 100): \"))\n",
    "    germe_valide = germe >= 1 and germe <= 100\n",
    "\n",
    "random.seed(germe)\n",
    "\n",
    "# Génération des 1000 valeurs aléatoires\n",
    "valeurs = []\n",
    "for i in range(1000):\n",
    "    valeur = random.randint(-1000, 999)\n",
    "    valeurs.append(valeur)"
   ]
  },
  {
   "cell_type": "code",
   "execution_count": 3,
   "id": "2a16bbb6",
   "metadata": {},
   "outputs": [
    {
     "name": "stdout",
     "output_type": "stream",
     "text": [
      "Il y a 533 valeurs inférieures à 30\n"
     ]
    }
   ],
   "source": [
    "#@title Exercice 0.2\n",
    "\n",
    "\n",
    "def compter_inferieurs(liste_entiers, valeur_maximale):\n",
    "    \"\"\"\n",
    "        Cette fonction compte le nombre de valeurs de liste_entiers strictement inférieures à\n",
    "        valeur_maximale\n",
    "    \"\"\"\n",
    "    nombre_inferieurs = 0\n",
    "    for valeur in liste_entiers:\n",
    "        if valeur < valeur_maximale:\n",
    "            nombre_inferieurs += 1\n",
    "    return nombre_inferieurs\n",
    "\n",
    "nombre_valeurs = compter_inferieurs(valeurs, 30)\n",
    "print(f\"Il y a {nombre_valeurs} valeurs inférieures à 30\")"
   ]
  },
  {
   "cell_type": "code",
   "execution_count": 4,
   "id": "f1c35af0",
   "metadata": {},
   "outputs": [
    {
     "name": "stdout",
     "output_type": "stream",
     "text": [
      "Il y a 479 valeurs positives et 521 valeurs négatives.\n"
     ]
    }
   ],
   "source": [
    "#@title Exercice 0.3\n",
    "\n",
    "def separer_liste(originale, positifs, negatifs):\n",
    "    \"\"\"\n",
    "        Fonction qui place dans positifs toutes les valeurs >= 0 et les autres dans negatifs.\n",
    "        La liste originale n'est pas modifiée.\n",
    "    \"\"\"\n",
    "    for valeur in originale:\n",
    "        if valeur < 0:\n",
    "            negatifs.append(valeur)\n",
    "        else:\n",
    "            positifs.append(valeur)\n",
    "\n",
    "valeurs_positives = []\n",
    "valeurs_negatives = []\n",
    "separer_liste(valeurs, valeurs_positives, valeurs_negatives)\n",
    "\n",
    "print(f\"Il y a {len(valeurs_positives)} valeurs positives et {len(valeurs_negatives)} valeurs négatives.\")"
   ]
  },
  {
   "cell_type": "code",
   "execution_count": 5,
   "id": "5395036b",
   "metadata": {},
   "outputs": [],
   "source": [
    "#@title Exercice 0.4\n",
    "\n",
    "with open(\"positives.txt\", \"w\") as fichier_positif:\n",
    "    for valeur in valeurs_positives:\n",
    "        print(valeur, file=fichier_positif)\n",
    "\n",
    "with open(\"negatives.txt\", \"w\") as fichier_negatifs:\n",
    "    for valeur in valeurs_negatives:\n",
    "        print(valeur, file=fichier_negatifs)\n"
   ]
  },
  {
   "cell_type": "code",
   "execution_count": 6,
   "id": "33e059e7",
   "metadata": {},
   "outputs": [
    {
     "name": "stdout",
     "output_type": "stream",
     "text": [
      "La somme des trois plus grand positifs est: 2992\n",
      "La somme des trois plus grands négatifs est: -15\n"
     ]
    }
   ],
   "source": [
    "#@title Exercice 0.5\n",
    "\n",
    "def somme_trois_plus_grands(liste_entiers):\n",
    "    \"\"\"\n",
    "        Fonction qui fait la somme des trois valeurs les plus grandes de liste_entiers.\n",
    "        La liste n'est pas modifiée.\n",
    "    \"\"\"\n",
    "    somme = 0\n",
    "    indice_exclus = []\n",
    "    for compteur in range(3):\n",
    "        valeur_max = min(liste_entiers) - 1\n",
    "        indice_candidat = 0\n",
    "        for i in range(len(liste_entiers)):\n",
    "            if liste_entiers[i] > valeur_max and i not in indice_exclus:\n",
    "                indice_candidat = i\n",
    "                valeur_max = liste_entiers[i]\n",
    "        somme += valeur_max\n",
    "        indice_exclus.append(indice_candidat)\n",
    "    return somme\n",
    "\n",
    "somme_positive = somme_trois_plus_grands(valeurs_positives)\n",
    "somme_negative = somme_trois_plus_grands(valeurs_negatives)\n",
    "\n",
    "print(f\"La somme des trois plus grand positifs est: {somme_positive}\")\n",
    "print(f\"La somme des trois plus grands négatifs est: {somme_negative}\")"
   ]
  },
  {
   "cell_type": "code",
   "execution_count": 7,
   "id": "661bb04d",
   "metadata": {},
   "outputs": [
    {
     "name": "stdout",
     "output_type": "stream",
     "text": [
      "Le fichier positives_singleton.txt contient 376 valeurs.\n",
      "Le fichier negatives_singleton.txt contient 402 valeurs.\n"
     ]
    }
   ],
   "source": [
    "#@title Exercice 0.6\n",
    "\n",
    "def compter_lignes(nom_fichier):\n",
    "    \"\"\"\n",
    "        Fonction qui compte le nombre de lignes dans le fichier\n",
    "    \"\"\"\n",
    "    nb_lignes = 0\n",
    "    with open(nom_fichier, \"r\") as fic:\n",
    "        for ligne in fic:\n",
    "            nb_lignes += 1\n",
    "    return nb_lignes\n",
    "\n",
    "def enlever_doublons(nom_fichier_entiers):\n",
    "    \"\"\"\n",
    "        Fonction qui crée un nouveau fichier à partir du nom du fichier et\n",
    "        y copie toutes les valeurs de fichier_entiers, sauf les doublons.\n",
    "    \"\"\"\n",
    "    valeur_retenus = []   # Pour ne pas avoir de doublons\n",
    "    with open(nom_fichier_entiers) as fic:\n",
    "        for ligne in fic:\n",
    "            valeur = int(ligne)\n",
    "            if valeur not in valeur_retenus:\n",
    "                valeur_retenus.append(valeur)\n",
    "\n",
    "    # On crée le nom du nouveau fichier à partir de nom_fichier_entiers    \n",
    "    position_point = nom_fichier_entiers.index(\".\")\n",
    "    extension = nom_fichier_entiers[position_point+1:]\n",
    "    nouveau_nom = nom_fichier_entiers[:position_point] + \"_singleton\"+ \".\" + extension\n",
    "\n",
    "    # On écrit les valeurs\n",
    "    with open(nouveau_nom, \"w\") as nouveau_fic:\n",
    "        for valeur in valeur_retenus:\n",
    "            print(valeur, file=nouveau_fic)\n",
    "\n",
    "enlever_doublons(\"positives.txt\")\n",
    "enlever_doublons(\"negatives.txt\")\n",
    "\n",
    "print(f\"Le fichier positives_singleton.txt contient {compter_lignes(\"positives_singleton.txt\")} valeurs.\")\n",
    "print(f\"Le fichier negatives_singleton.txt contient {compter_lignes(\"negatives_singleton.txt\")} valeurs.\")\n"
   ]
  },
  {
   "cell_type": "code",
   "execution_count": 8,
   "id": "b9b96446",
   "metadata": {},
   "outputs": [
    {
     "data": {
      "image/png": "[encoded data removed]",
      "text/plain": [
       "<Figure size 1400x800 with 1 Axes>"
      ]
     },
     "metadata": {},
     "output_type": "display_data"
    }
   ],
   "source": [
    "#@title Exercice 0.7\n",
    "\n",
    "etiquettes_x = [f\"[{x},\\n{x+100}]\" for x in range(-1000, 1000, 100)]\n",
    "quantites = [0] * 20   # Pour partager les valeurs, de -1000 à 1000, par tranche de 100\n",
    "\n",
    "for valeur in valeurs:\n",
    "    indice = (valeur + 1000) // 100    # -1000 est à l'indice 0, -901 est à l'indice 0, -900 à l'indice 1... et 900 à 999 à l'indice 19\n",
    "    quantites[indice] = quantites[indice]  + 1\n",
    "\n",
    "plt.figure(figsize=(14,8))\n",
    "plt.title(f\"Distribution avec le germe aléatoire {germe}\")\n",
    "plt.bar(etiquettes_x, quantites)\n",
    "plt.xticks(fontsize=8)\n",
    "plt.xlabel(\"Valeurs\")\n",
    "plt.ylabel(\"Quantité\", rotation=90)\n",
    "\n",
    "plt.show()"
   ]
  }
 ],
 "metadata": {
  "kernelspec": {
   "display_name": "Python 3",
   "language": "python",
   "name": "python3"
  },
  "language_info": {
   "codemirror_mode": {
    "name": "ipython",
    "version": 3
   },
   "file_extension": ".py",
   "mimetype": "text/x-python",
   "name": "python",
   "nbconvert_exporter": "python",
   "pygments_lexer": "ipython3",
   "version": "3.13.7"
  }
 },
 "nbformat": 4,
 "nbformat_minor": 5
}
