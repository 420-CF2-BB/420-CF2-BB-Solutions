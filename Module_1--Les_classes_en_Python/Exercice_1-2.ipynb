{
 "cells": [
  {
   "cell_type": "code",
   "execution_count": null,
   "id": "267c4682",
   "metadata": {},
   "outputs": [
    {
     "name": "stdout",
     "output_type": "stream",
     "text": [
      "\n"
     ]
    },
    {
     "data": {
      "text/plain": [
       "'#875: Flanders, Ned 744 Evergreen Terrace, Springfield'"
      ]
     },
     "execution_count": 2,
     "metadata": {},
     "output_type": "execute_result"
    }
   ],
   "source": [
    "class Client:\n",
    "    def __init__(self, numero, nom, prenom, adresse):\n",
    "        self._numero = numero\n",
    "        self._nom = nom\n",
    "        self._prenom = prenom\n",
    "        self._adresse = adresse\n",
    "\n",
    "    def afficher(self):\n",
    "        message = f\"#{self._numero}: {self._nom}, {self._prenom}\\n\\t{self._adresse}\"\n",
    "        print(message)\n",
    "    \n",
    "premier_client = Client(143, \"Simpson\", \"Homer\", \"742 Evergreen Terrace, Springfield\")\n",
    "deuxieme_client = Client(875, \"Flanders\", \"Ned\", \"744 Evergreen Terrace, Springfield\")\n",
    "\n",
    "premier_client.afficher()\n",
    "print()\n",
    "deuxieme_client.afficher()"
   ]
  }
 ],
 "metadata": {
  "kernelspec": {
   "display_name": "Python 3",
   "language": "python",
   "name": "python3"
  },
  "language_info": {
   "codemirror_mode": {
    "name": "ipython",
    "version": 3
   },
   "file_extension": ".py",
   "mimetype": "text/x-python",
   "name": "python",
   "nbconvert_exporter": "python",
   "pygments_lexer": "ipython3",
   "version": "3.13.7"
  }
 },
 "nbformat": 4,
 "nbformat_minor": 5
}
