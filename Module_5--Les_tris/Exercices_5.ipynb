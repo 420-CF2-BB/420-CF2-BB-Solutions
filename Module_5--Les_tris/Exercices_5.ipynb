{
  "cells": [
    {
      "cell_type": "code",
      "execution_count": 7,
      "metadata": {
        "colab": {
          "base_uri": "https://localhost:8080/"
        },
        "id": "CJLjc6tBqj97",
        "outputId": "d1b9a306-6296-427b-85db-93f24777c8f3"
      },
      "outputs": [
        {
          "name": "stdout",
          "output_type": "stream",
          "text": [
            "[0, 1, 2, 3, 4, 5, 6, 7, 8, 9]\n",
            "[9, 6, 7, 3, 4, 1, 2, 0, 5, 8]\n",
            "[0, 1, 1, 3, 4, 5, 6, 6, 8, 9]\n",
            "[9, 3, 3, 3, 4, 1, 2, 0, 6, 8]\n",
            "[0, 1, 1, 3, 4, 8, 6, 6, 5, 9]\n"
          ]
        }
      ],
      "source": [
        "#@title Exercice 5.1\n",
        "import random\n",
        "\n",
        "def creer_liste_aleatoire(n):\n",
        "    nouvelle_liste = list(range(n))\n",
        "    random.shuffle(nouvelle_liste)\n",
        "    return nouvelle_liste\n",
        "\n",
        "def creer_liste_croissante(n):\n",
        "    nouvelle_liste = list(range(n))\n",
        "    return nouvelle_liste\n",
        "\n",
        "def est_triee_croissant(elements):\n",
        "    for i in range(len(elements) -1 ):\n",
        "        if elements[i] > elements[i+1]:\n",
        "            return False\n",
        "    return True\n",
        "\n",
        "def introduire_doublons(elements, nombre):\n",
        "    triee = est_triee_croissant(elements)\n",
        "    for i in range(nombre):\n",
        "        indice_a_copier = random.randint(0, len(elements) - 1)\n",
        "        if triee:\n",
        "            if indice_a_copier != len(elements) - 1:\n",
        "                elements[indice_a_copier + 1] = elements[indice_a_copier]\n",
        "            else:\n",
        "                elements[indice_a_copier] = elements[indice_a_copier - 1]\n",
        "        else:\n",
        "            indice_cible = random.randint(0, len(elements) -1)\n",
        "            while indice_a_copier == indice_cible:\n",
        "                indice_cible = random.randint(0, len(elements) -1)\n",
        "            elements[indice_cible] = elements[indice_a_copier]\n",
        "\n",
        "def permuter_valeurs(elements, nombre):\n",
        "    for i in range(nombre):\n",
        "        i = random.randint(0, len(elements) - 1)\n",
        "        j = random.randint(0, len(elements) - 1)\n",
        "        while i == j:\n",
        "            j = random.randint(0, len(elements) - 1)\n",
        "        elements[i], elements[j] = elements[j], elements[i]\n",
        "\n",
        "# Quelques tests\n",
        "\n",
        "liste_triee = creer_liste_croissante(10)\n",
        "print(liste_triee)\n",
        "assert(est_triee_croissant(liste_triee))\n",
        "\n",
        "liste_aleatoire = creer_liste_aleatoire(10)\n",
        "print(liste_aleatoire)\n",
        "assert(not est_triee_croissant(liste_aleatoire))\n",
        "\n",
        "introduire_doublons(liste_triee, 3)\n",
        "print(liste_triee)\n",
        "assert(est_triee_croissant(liste_triee))\n",
        "\n",
        "introduire_doublons(liste_aleatoire, 3)\n",
        "print(liste_aleatoire)\n",
        "assert(not est_triee_croissant(liste_aleatoire))\n",
        "\n",
        "presque_triee = liste_triee.copy()\n",
        "permuter_valeurs(presque_triee, 2)\n",
        "print(presque_triee)\n"
      ]
    },
    {
      "cell_type": "code",
      "execution_count": 8,
      "metadata": {
        "colab": {
          "base_uri": "https://localhost:8080/"
        },
        "id": "Y9DBuRNNNlV7",
        "outputId": "78a84314-a811-458a-bbbe-8bb3e6d91c01"
      },
      "outputs": [
        {
          "name": "stdout",
          "output_type": "stream",
          "text": [
            "La liste est triée\n"
          ]
        }
      ],
      "source": [
        "#­@title Exercice 5.2\n",
        "\n",
        "def tri_insertion(elements):\n",
        "    for i in range(len(elements) - 1):\n",
        "        j = i+1\n",
        "        while j > 0 and elements[j] < elements[j-1]:\n",
        "            elements[j], elements[j-1] = elements[j-1], elements[j]\n",
        "            j = j -1\n",
        "\n",
        "liste_aleatoire = creer_liste_aleatoire(1000)\n",
        "assert(not est_triee_croissant(liste_aleatoire))\n",
        "tri_insertion(liste_aleatoire)\n",
        "if est_triee_croissant(liste_aleatoire):\n",
        "    print(\"La liste est triée\")\n",
        "else:\n",
        "    print(\"La liste n'est pas triée\")"
      ]
    },
    {
      "cell_type": "code",
      "execution_count": 9,
      "metadata": {
        "colab": {
          "base_uri": "https://localhost:8080/"
        },
        "id": "9bO3Emd9OkRN",
        "outputId": "dbc8a07e-564b-4c0a-fe54-5d62cbdbd77a"
      },
      "outputs": [
        {
          "name": "stdout",
          "output_type": "stream",
          "text": [
            "La liste est triée\n"
          ]
        }
      ],
      "source": [
        "#@title Exercice 5.3\n",
        "\n",
        "def tri_selection(elements):\n",
        "    for i in range(len(elements) - 1):\n",
        "        plus_petit = i\n",
        "        for j in range(i+1, len(elements)):\n",
        "            if elements[j] < elements[plus_petit]:\n",
        "                plus_petit = j\n",
        "        if plus_petit != i:\n",
        "            elements[plus_petit], elements[i] = elements[i], elements[plus_petit]\n",
        "\n",
        "liste_aleatoire = creer_liste_aleatoire(1000)\n",
        "assert(not est_triee_croissant(liste_aleatoire))\n",
        "tri_insertion(liste_aleatoire)\n",
        "if est_triee_croissant(liste_aleatoire):\n",
        "    print(\"La liste est triée\")\n",
        "else:\n",
        "    print(\"La liste n'est pas triée\")"
      ]
    },
    {
      "cell_type": "code",
      "execution_count": 10,
      "metadata": {
        "colab": {
          "base_uri": "https://localhost:8080/"
        },
        "id": "xMgS61YIPHWW",
        "outputId": "74965d6a-5115-4694-da71-3001ee170ebc"
      },
      "outputs": [
        {
          "name": "stdout",
          "output_type": "stream",
          "text": [
            "La liste est triée\n"
          ]
        }
      ],
      "source": [
        "#@title Exercice 5.4\n",
        "\n",
        "def tri_rapide(elements):\n",
        "    tri_rapide_recursif(elements, 0, len(elements)-1)\n",
        "\n",
        "def tri_rapide_recursif(elements, gauche, droite):\n",
        "    if gauche >= droite:\n",
        "        return\n",
        "    pivot = partitionner(elements, gauche, droite)\n",
        "    tri_rapide_recursif(elements, gauche, pivot-1)\n",
        "    tri_rapide_recursif(elements, pivot + 1, droite)\n",
        "\n",
        "\n",
        "def partitionner(elements, gauche, droite):\n",
        "    pivot_index = (gauche + droite) // 2\n",
        "    pivot = elements[pivot_index]\n",
        "\n",
        "    # on met le pivot à la fin\n",
        "    elements[pivot_index], elements[droite] = elements[droite], elements[pivot_index]\n",
        "\n",
        "    g = gauche\n",
        "    d = droite - 1  # on commence avant le pivot qui est à droite\n",
        "\n",
        "    while True:\n",
        "        while g <= d and elements[g] < pivot:\n",
        "            g += 1\n",
        "        while g <= d and elements[d] > pivot:\n",
        "            d -= 1\n",
        "\n",
        "        if g >= d:  # quand les indices se croisent, on arrête\n",
        "            break\n",
        "\n",
        "        elements[g], elements[d] = elements[d], elements[g]\n",
        "        g += 1\n",
        "        d -= 1\n",
        "\n",
        "    # on remet le pivot à sa bonne place\n",
        "    elements[g], elements[droite] = elements[droite], elements[g]\n",
        "    return g\n",
        "\n",
        "liste_aleatoire = creer_liste_aleatoire(1000)\n",
        "assert(not est_triee_croissant(liste_aleatoire))\n",
        "tri_rapide(liste_aleatoire)\n",
        "if est_triee_croissant(liste_aleatoire):\n",
        "    print(\"La liste est triée\")\n",
        "else:\n",
        "    print(\"La liste n'est pas triée\")"
      ]
    },
    {
      "cell_type": "code",
      "execution_count": 75,
      "metadata": {
        "colab": {
          "base_uri": "https://localhost:8080/"
        },
        "id": "GBU5O04dTVxj",
        "outputId": "d1bf5af5-c762-4868-b256-2c760047b7f3"
      },
      "outputs": [
        {
          "name": "stdout",
          "output_type": "stream",
          "text": [
            "La liste est triée\n"
          ]
        }
      ],
      "source": [
        "#@title Exercice 5.5\n",
        "\n",
        "def fusionner(premier, deuxieme):\n",
        "    i = 0\n",
        "    j = 0\n",
        "    fusion = []\n",
        "    while i < len(premier) and j < len(deuxieme):\n",
        "        if deuxieme[j] < premier[i]:          # important pour maintenire la stabilité. Si == alors on prend\n",
        "            fusion.append(deuxieme[j])        # l'élément du premier tableau\n",
        "            j += 1\n",
        "        else:\n",
        "            fusion.append(premier[i])\n",
        "            i += 1\n",
        "\n",
        "    for i in range(i, len(premier)):\n",
        "        fusion.append(premier[i])\n",
        "\n",
        "    for j in range(j, len(deuxieme)):\n",
        "        fusion.append(deuxieme[j])\n",
        "\n",
        "    return fusion\n",
        "\n",
        "def tri_fusion(tableau):\n",
        "    tableau_reponse = []\n",
        "    if len(tableau) > 1:\n",
        "        milieu = len(tableau) // 2\n",
        "        gauche = tri_fusion(tableau[:milieu])\n",
        "        droite = tri_fusion(tableau[milieu:])\n",
        "        tableau_reponse = fusionner(gauche, droite)\n",
        "    else:\n",
        "        tableau_reponse = tableau\n",
        "    return tableau_reponse\n",
        "\n",
        "liste_aleatoire = creer_liste_aleatoire(1000)\n",
        "assert(not est_triee_croissant(liste_aleatoire))\n",
        "liste_aleatoire = tri_fusion(liste_aleatoire)\n",
        "if est_triee_croissant(liste_aleatoire):\n",
        "    print(\"La liste est triée\")\n",
        "else:\n",
        "    print(\"La liste n'est pas triée\")"
      ]
    },
    {
      "cell_type": "code",
      "execution_count": 15,
      "metadata": {
        "colab": {
          "base_uri": "https://localhost:8080/",
          "height": 327
        },
        "id": "n2x2OLsCV0sQ",
        "outputId": "87a3a666-6999-414e-fb92-ca77354d58fd"
      },
      "outputs": [
        {
          "data": {
            "image/png": "[encoded data removed]",
            "text/plain": [
              "<Figure size 300x300 with 1 Axes>"
            ]
          },
          "metadata": {},
          "output_type": "display_data"
        }
      ],
      "source": [
        "#@title Exercice 5.6\n",
        "\n",
        "import matplotlib.pyplot as plt\n",
        "import timeit\n",
        "\n",
        "liste_x = list(range(100, 30000, 100))\n",
        "\n",
        "quick_y = []\n",
        "python_y = []\n",
        "fusion_y = []\n",
        "\n",
        "for x in liste_x:\n",
        "    liste_originale = creer_liste_aleatoire(x)\n",
        "    introduire_doublons(liste_originale, len(liste_originale) // 100)\n",
        "\n",
        "    temps_copie = timeit.timeit(lambda: liste_originale.copy(), number=200) / 200 * 1000 # En ms\n",
        "\n",
        "    temps = timeit.repeat(lambda: tri_rapide(liste_originale.copy()), number = 1, repeat = 1)\n",
        "    quick_y.append(min(temps) * 1000 - temps_copie)\n",
        "\n",
        "    temps = timeit.repeat(lambda: liste_originale.copy().sort(), number = 1, repeat = 1)\n",
        "    python_y.append(min(temps) * 1000 - temps_copie)\n",
        "\n",
        "    temps = timeit.repeat(lambda: tri_fusion(liste_originale.copy()), number = 1, repeat = 1)\n",
        "    fusion_y.append(min(temps) * 1000 - temps_copie)\n",
        "\n",
        "plt.figure(figsize=(3, 3))\n",
        "plt.title(\"Comparaison des tris en n log n\", fontsize=8)\n",
        "plt.xlabel(\"n\")\n",
        "plt.ylabel(\"ms\")\n",
        "\n",
        "plt.plot(liste_x, quick_y, \"-r\", label=\"Quicksort\")\n",
        "plt.plot(liste_x, python_y, \"-g\", label=\"Tri de Python\")\n",
        "plt.plot(liste_x, fusion_y, \"-b\", label=\"Tri fusion\")\n",
        "plt.legend()\n",
        "plt.show()"
      ]
    },
    {
      "cell_type": "code",
      "execution_count": 100,
      "metadata": {},
      "outputs": [
        {
          "name": "stdout",
          "output_type": "stream",
          "text": [
            "[0, 1, 2, 3, 4, 5, 6, 7, 8, 9]\n"
          ]
        }
      ],
      "source": [
        "#@title Exercice 5.7\n",
        "\n",
        "def fusionner(elements, gauche, milieu, droite, temp):\n",
        "    i = gauche\n",
        "    j = milieu\n",
        "    k = gauche\n",
        "\n",
        "    while i < milieu and j < droite:\n",
        "        if elements[i] <= elements[j]:\n",
        "            temp[k] = elements[i]\n",
        "            i += 1\n",
        "        else:\n",
        "            temp[k] = elements[j]\n",
        "            j += 1\n",
        "        k += 1\n",
        "\n",
        "    while i < milieu:\n",
        "        temp[k] = elements[i]\n",
        "        i += 1\n",
        "        k += 1\n",
        "\n",
        "    while j < droite:\n",
        "        temp[k] = elements[j]\n",
        "        j += 1\n",
        "        k += 1\n",
        "    \n",
        "    for i in range(gauche, droite):\n",
        "        elements[i] = temp[i]\n",
        "\n",
        "\n",
        "\n",
        "def fusion_recursif(elements, gauche, droite, temp):\n",
        "    if droite - gauche > 1:\n",
        "        milieu = (gauche + droite) // 2\n",
        "        fusion_recursif(elements, gauche, milieu, temp)\n",
        "        fusion_recursif(elements, milieu, droite, temp)\n",
        "        fusionner(elements, gauche, milieu, droite, temp)\n",
        "\n",
        "\n",
        "def tri_fusion_opt(elements):\n",
        "    temp = [None] * len(elements)   # Pour fusionner les éléments\n",
        "    fusion_recursif(elements, 0, len(elements), temp)\n",
        "\n",
        "\n",
        "liste = creer_liste_aleatoire(10)\n",
        "tri_fusion_opt(liste)\n",
        "print(liste)\n",
        "\n",
        "# liste_aleatoire = creer_liste_aleatoire(1000)\n",
        "# assert(not est_triee_croissant(liste_aleatoire))\n",
        "# tri_fusion_opt(liste_aleatoire)\n",
        "# if est_triee_croissant(liste_aleatoire):\n",
        "#     print(\"La liste est triée\")\n",
        "# else:\n",
        "#     print(\"La liste n'est pas triée\")"
      ]
    }
  ],
  "metadata": {
    "colab": {
      "provenance": []
    },
    "kernelspec": {
      "display_name": "Python 3",
      "name": "python3"
    },
    "language_info": {
      "codemirror_mode": {
        "name": "ipython",
        "version": 3
      },
      "file_extension": ".py",
      "mimetype": "text/x-python",
      "name": "python",
      "nbconvert_exporter": "python",
      "pygments_lexer": "ipython3",
      "version": "3.13.0"
    }
  },
  "nbformat": 4,
  "nbformat_minor": 0
}
