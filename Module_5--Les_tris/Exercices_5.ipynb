{
  "cells": [
    {
      "cell_type": "code",
      "execution_count": 1,
      "metadata": {
        "colab": {
          "base_uri": "https://localhost:8080/"
        },
        "id": "CJLjc6tBqj97",
        "outputId": "d1b9a306-6296-427b-85db-93f24777c8f3"
      },
      "outputs": [
        {
          "name": "stdout",
          "output_type": "stream",
          "text": [
            "[0, 1, 2, 3, 4, 5, 6, 7, 8, 9]\n",
            "[5, 1, 6, 8, 3, 4, 0, 9, 2, 7]\n",
            "[0, 1, 1, 2, 4, 5, 6, 7, 8, 8]\n",
            "[5, 1, 6, 5, 3, 4, 0, 2, 2, 7]\n"
          ]
        }
      ],
      "source": [
        "#@title Exercice 5.1\n",
        "import random\n",
        "\n",
        "def creer_liste_aleatoire(n):\n",
        "    nouvelle_liste = list(range(n))\n",
        "    random.shuffle(nouvelle_liste)\n",
        "    return nouvelle_liste\n",
        "\n",
        "def creer_liste_croissante(n):\n",
        "    nouvelle_liste = list(range(n))\n",
        "    return nouvelle_liste\n",
        "\n",
        "def est_triee_croissant(elements):\n",
        "    for i in range(len(elements) -1 ):\n",
        "        if elements[i] > elements[i+1]:\n",
        "            return False\n",
        "    return True\n",
        "\n",
        "def introduire_doublons(elements, nombre):\n",
        "    triee = est_triee_croissant(elements)\n",
        "    for i in range(nombre):\n",
        "        indice_a_copier = random.randint(0, len(elements) - 1)\n",
        "        if triee:\n",
        "            if indice_a_copier != len(elements) - 1:\n",
        "                elements[indice_a_copier + 1] = elements[indice_a_copier]\n",
        "            else:\n",
        "                elements[indice_a_copier] = elements[indice_a_copier - 1]\n",
        "        else:\n",
        "            indice_cible = random.randint(0, len(elements) -1)\n",
        "            while indice_a_copier == indice_cible:\n",
        "                indice_cible = random.randint(0, len(elements) -1)\n",
        "            elements[indice_cible] = elements[indice_a_copier]\n",
        "\n",
        "# Quelques tests\n",
        "\n",
        "liste_triee = creer_liste_croissante(10)\n",
        "print(liste_triee)\n",
        "\n",
        "liste_aleatoire = creer_liste_aleatoire(10)\n",
        "print(liste_aleatoire)\n",
        "\n",
        "introduire_doublons(liste_triee, 3)\n",
        "print(liste_triee)\n",
        "\n",
        "introduire_doublons(liste_aleatoire, 3)\n",
        "print(liste_aleatoire)"
      ]
    },
    {
      "cell_type": "code",
      "execution_count": null,
      "metadata": {
        "colab": {
          "base_uri": "https://localhost:8080/"
        },
        "id": "Y9DBuRNNNlV7",
        "outputId": "78a84314-a811-458a-bbbe-8bb3e6d91c01"
      },
      "outputs": [],
      "source": [
        "#­@title Exercice 5.2\n",
        "\n",
        "def tri_insertion(elements):\n",
        "    for i in range(len(elements) - 1):\n",
        "        j = i+1\n",
        "        element = elements[j]\n",
        "        while j > 0 and element < elements[j-1]:\n",
        "            elements[j] = elements[j-1]\n",
        "            j = j -1\n",
        "        elements[j] = element   # j est sur la position où on insère l'élément\n",
        "\n",
        "liste_aleatoire = creer_liste_aleatoire(1000)\n",
        "assert(not est_triee_croissant(liste_aleatoire))\n",
        "tri_insertion(liste_aleatoire)\n",
        "assert(est_triee_croissant(liste_aleatoire))"
      ]
    },
    {
      "cell_type": "code",
      "execution_count": 4,
      "metadata": {
        "colab": {
          "base_uri": "https://localhost:8080/"
        },
        "id": "9bO3Emd9OkRN",
        "outputId": "dbc8a07e-564b-4c0a-fe54-5d62cbdbd77a"
      },
      "outputs": [],
      "source": [
        "#@title Exercice 5.3\n",
        "\n",
        "def tri_selection(elements):\n",
        "    for i in range(len(elements) - 1):\n",
        "        plus_petit = i\n",
        "        for j in range(i+1, len(elements)):\n",
        "            if elements[j] < elements[plus_petit]:\n",
        "                plus_petit = j\n",
        "        if plus_petit != i:\n",
        "            elements[plus_petit], elements[i] = elements[i], elements[plus_petit]\n",
        "\n",
        "liste_aleatoire = creer_liste_aleatoire(1000)\n",
        "assert(not est_triee_croissant(liste_aleatoire))\n",
        "tri_selection(liste_aleatoire)\n",
        "assert(est_triee_croissant(liste_aleatoire))"
      ]
    },
    {
      "cell_type": "code",
      "execution_count": 5,
      "metadata": {
        "colab": {
          "base_uri": "https://localhost:8080/"
        },
        "id": "xMgS61YIPHWW",
        "outputId": "74965d6a-5115-4694-da71-3001ee170ebc"
      },
      "outputs": [],
      "source": [
        "#@title Exercice 5.4\n",
        "import random\n",
        "\n",
        "def tri_rapide(elements):\n",
        "    tri_rapide_recursif(elements, 0, len(elements)-1)\n",
        "\n",
        "def tri_rapide_recursif(elements, gauche, droite):\n",
        "    if gauche >= droite:\n",
        "        return\n",
        "    pivot = partitionner(elements, gauche, droite)\n",
        "    tri_rapide_recursif(elements, gauche, pivot-1)\n",
        "    tri_rapide_recursif(elements, pivot + 1, droite)\n",
        "\n",
        "\n",
        "def partitionner(elements, gauche, droite):\n",
        "\n",
        "    pivot_index = (gauche + droite) // 2\n",
        "    pivot = elements[pivot_index]\n",
        "\n",
        "    # on met le pivot à la fin\n",
        "    elements[pivot_index], elements[droite] = elements[droite], elements[pivot_index]\n",
        "\n",
        "    g = gauche\n",
        "    d = droite -1\n",
        "    \n",
        "    while True:\n",
        "        while elements[g] < pivot:\n",
        "            g += 1\n",
        "        while elements[d] > pivot:\n",
        "            d -= 1\n",
        "\n",
        "        if g >= d:  # quand les indices se croisent, on arrête\n",
        "            break\n",
        "\n",
        "        elements[g], elements[d] = elements[d], elements[g]\n",
        "        g += 1\n",
        "        d -= 1\n",
        "\n",
        "    # on remet le pivot à la bonne place. Qui est g\n",
        "    elements[g], elements[droite] = elements[droite], elements[g]\n",
        "    return g    \n",
        "\n",
        "liste_aleatoire = creer_liste_aleatoire(10000)\n",
        "assert(not est_triee_croissant(liste_aleatoire))\n",
        "tri_rapide(liste_aleatoire)\n",
        "assert(est_triee_croissant(liste_aleatoire))\n"
      ]
    },
    {
      "cell_type": "code",
      "execution_count": null,
      "metadata": {
        "colab": {
          "base_uri": "https://localhost:8080/"
        },
        "id": "GBU5O04dTVxj",
        "outputId": "d1bf5af5-c762-4868-b256-2c760047b7f3"
      },
      "outputs": [],
      "source": [
        "#@title Exercice 5.5\n",
        "\n",
        "def fusionner(premier, deuxieme):\n",
        "    i = 0\n",
        "    j = 0\n",
        "    fusion = []\n",
        "    while i < len(premier) and j < len(deuxieme):\n",
        "        if deuxieme[j] < premier[i]:          # important pour maintenir la stabilité. Si == alors on prend\n",
        "            fusion.append(deuxieme[j])        # l'élément du premier tableau\n",
        "            j += 1\n",
        "        else:\n",
        "            fusion.append(premier[i])\n",
        "            i += 1\n",
        "\n",
        "    for i in range(i, len(premier)):\n",
        "        fusion.append(premier[i])\n",
        "\n",
        "    for j in range(j, len(deuxieme)):\n",
        "        fusion.append(deuxieme[j])\n",
        "\n",
        "    return fusion\n",
        "\n",
        "def tri_fusion_recursif(partie_liste):\n",
        "    tableau_reponse = []\n",
        "    if len(partie_liste) > 1:\n",
        "        milieu = len(partie_liste) // 2\n",
        "        gauche = tri_fusion_recursif(partie_liste[:milieu])\n",
        "        droite = tri_fusion_recursif(partie_liste[milieu:])\n",
        "        tableau_reponse = fusionner(gauche, droite)\n",
        "    else:\n",
        "        tableau_reponse = partie_liste\n",
        "    return tableau_reponse\n",
        "\n",
        "def tri_fusion(elements):\n",
        "    resultat_fusion = tri_fusion_recursif(elements)\n",
        "    for i in range(len(resultat_fusion)):\n",
        "        elements[i] = resultat_fusion[i]\n",
        "\n",
        "liste_aleatoire = creer_liste_aleatoire(1000)\n",
        "assert(not est_triee_croissant(liste_aleatoire))\n",
        "tri_fusion(liste_aleatoire)\n",
        "assert(est_triee_croissant(liste_aleatoire))"
      ]
    },
    {
      "cell_type": "code",
      "execution_count": null,
      "metadata": {
        "colab": {
          "base_uri": "https://localhost:8080/",
          "height": 327
        },
        "id": "n2x2OLsCV0sQ",
        "outputId": "87a3a666-6999-414e-fb92-ca77354d58fd"
      },
      "outputs": [
        {
          "data": {
            "image/png": "[encoded data removed]",
            "text/plain": [
              "<Figure size 300x300 with 1 Axes>"
            ]
          },
          "metadata": {},
          "output_type": "display_data"
        }
      ],
      "source": [
        "#@title Exercice 5.6\n",
        "\n",
        "import matplotlib.pyplot as plt\n",
        "import timeit\n",
        "\n",
        "liste_x = list(range(100, 30000, 100))\n",
        "\n",
        "quick_y = []\n",
        "python_y = []\n",
        "fusion_y = []\n",
        "\n",
        "for x in liste_x:\n",
        "    liste_originale = creer_liste_aleatoire(x)\n",
        "    introduire_doublons(liste_originale, len(liste_originale) // 100)\n",
        "\n",
        "    temps_copie = timeit.timeit(lambda: liste_originale.copy(), number=200) / 200 * 1000 # En ms\n",
        "\n",
        "    temps = timeit.repeat(lambda: tri_rapide(liste_originale.copy()), number = 1, repeat = 5)\n",
        "    quick_y.append(sum(temps) / len(temps) * 1000 - temps_copie)\n",
        "\n",
        "    temps = timeit.repeat(lambda: liste_originale.copy().sort(), number = 1, repeat = 5)\n",
        "    python_y.append(sum(temps) / len(temps) * 1000 - temps_copie)\n",
        "\n",
        "    temps = timeit.repeat(lambda: tri_fusion(liste_originale.copy()), number = 1, repeat = 5)\n",
        "    fusion_y.append(sum(temps) / len(temps) * 1000 - temps_copie)\n",
        "\n",
        "plt.figure(figsize=(3, 3))\n",
        "plt.title(\"Comparaison des tris en n log n\", fontsize=8)\n",
        "plt.xlabel(\"n\")\n",
        "plt.ylabel(\"ms\")\n",
        "\n",
        "plt.plot(liste_x, quick_y, \"-r\", label=\"Quicksort\")\n",
        "plt.plot(liste_x, python_y, \"-g\", label=\"Tri de Python\")\n",
        "plt.plot(liste_x, fusion_y, \"-b\", label=\"Tri fusion\")\n",
        "plt.legend()\n",
        "plt.show()"
      ]
    },
    {
      "cell_type": "code",
      "execution_count": null,
      "metadata": {},
      "outputs": [],
      "source": [
        "#@title Exercice 5.7\n",
        "\n",
        "def fusionner_opt(elements, gauche, milieu, droite, temp):\n",
        "    i = gauche\n",
        "    j = milieu\n",
        "    k = gauche\n",
        "\n",
        "    while i < milieu and j < droite:\n",
        "        if elements[j] < elements[i]:    # Pour la stabilité du tri. en utilisant seulement <\n",
        "            temp[k] = elements[j]\n",
        "            j += 1\n",
        "        else:\n",
        "            temp[k] = elements[i]\n",
        "            i += 1\n",
        "        k += 1\n",
        "\n",
        "    while i < milieu:\n",
        "        temp[k] = elements[i]\n",
        "        i += 1\n",
        "        k += 1\n",
        "\n",
        "    while j < droite:\n",
        "        temp[k] = elements[j]\n",
        "        j += 1\n",
        "        k += 1\n",
        "    \n",
        "    for i in range(gauche, droite):\n",
        "        elements[i] = temp[i]\n",
        "\n",
        "def fusion_recursif_opt(elements, gauche, droite, temp):\n",
        "    if droite - gauche >=2:   # Au moins deux éléments\n",
        "        milieu = (gauche + droite) // 2\n",
        "        fusion_recursif_opt(elements, gauche, milieu, temp)\n",
        "        fusion_recursif_opt(elements, milieu, droite, temp)\n",
        "        fusionner_opt(elements, gauche, milieu, droite, temp)\n",
        "\n",
        "def tri_fusion_opt(elements):\n",
        "    temp = [None] * len(elements)   # Pour fusionner les éléments\n",
        "    fusion_recursif_opt(elements, 0, len(elements), temp)\n",
        "\n",
        "liste_aleatoire = creer_liste_aleatoire(1000)\n",
        "assert(not est_triee_croissant(liste_aleatoire))\n",
        "tri_fusion_opt(liste_aleatoire)\n",
        "assert(est_triee_croissant(liste_aleatoire))"
      ]
    },
    {
      "cell_type": "code",
      "execution_count": 16,
      "metadata": {},
      "outputs": [
        {
          "data": {
            "image/png": "[encoded data removed]",
            "text/plain": [
              "<Figure size 300x300 with 1 Axes>"
            ]
          },
          "metadata": {},
          "output_type": "display_data"
        }
      ],
      "source": [
        "#@title Exercice 5.8\n",
        "import matplotlib.pyplot as plt\n",
        "import timeit\n",
        "\n",
        "liste_x = list(range(100, 30000, 100))\n",
        "\n",
        "fusion_y = []\n",
        "fusion_opt_y = []\n",
        "\n",
        "for x in liste_x:\n",
        "    liste_originale = creer_liste_aleatoire(x)\n",
        "    introduire_doublons(liste_originale, len(liste_originale) // 100)\n",
        "\n",
        "    temps_copie = timeit.timeit(lambda: liste_originale.copy(), number=200) / 200 * 1000 # En ms\n",
        "\n",
        "    temps = timeit.repeat(lambda: tri_fusion(liste_originale.copy()), number = 1, repeat = 5)\n",
        "    fusion_y.append(sum(temps) / len(temps) * 1000 - temps_copie)\n",
        "\n",
        "    temps = timeit.repeat(lambda: tri_fusion_opt(liste_originale.copy()), number = 1, repeat = 5)\n",
        "    fusion_opt_y.append(sum(temps) / len(temps) * 1000 - temps_copie)\n",
        "\n",
        "plt.figure(figsize=(3, 3))\n",
        "plt.title(\"Comparaison des tris en n log n\", fontsize=8)\n",
        "plt.xlabel(\"n\")\n",
        "plt.ylabel(\"ms\")\n",
        "\n",
        "plt.plot(liste_x, fusion_y, \"-b\", label=\"Tri fusion\")\n",
        "plt.plot(liste_x, fusion_opt_y, \"-r\", label=\"Tri fusion optimisé\")\n",
        "plt.legend()\n",
        "plt.show()"
      ]
    },
    {
      "cell_type": "code",
      "execution_count": 21,
      "metadata": {},
      "outputs": [
        {
          "name": "stdout",
          "output_type": "stream",
          "text": [
            "[Rectangle(2.000, 3.000), Rectangle(3.000, 5.000), Rectangle(1.000, 10.000), Rectangle(1.000, 6.000)]\n",
            "[Rectangle(1.000, 6.000), Rectangle(2.000, 3.000), Rectangle(1.000, 10.000), Rectangle(3.000, 5.000)]\n"
          ]
        }
      ],
      "source": [
        "#@title Exercice 5.9\n",
        "\n",
        "class Rectangle:\n",
        "    def __init__(self, base, hauteur):\n",
        "        self._base = base\n",
        "        self._hauteur = hauteur\n",
        "\n",
        "    def calculer_aire(self):\n",
        "        return self._base * self._hauteur\n",
        "\n",
        "    def get_base(self):\n",
        "        return self._base\n",
        "\n",
        "    def get_hauteur(self):\n",
        "        return self._hauteur\n",
        "\n",
        "    def __lt__(self, other):\n",
        "        return self.calculer_aire() < other.calculer_aire()\n",
        "\n",
        "    def __repr__(self):\n",
        "        chaine = f\"Rectangle({self._base:.3f}, {self._hauteur:.3f})\"\n",
        "        return chaine\n",
        "    \n",
        "rectangles = []\n",
        "rectangles.append(Rectangle(2, 3))\n",
        "rectangles.append(Rectangle(3, 5))\n",
        "rectangles.append(Rectangle(1, 10))\n",
        "rectangles.append(Rectangle(1, 6))\n",
        "\n",
        "print(rectangles)\n",
        "rectangles.sort(key=lambda r: r.get_base())\n",
        "rectangles.sort()\n",
        "print(rectangles)"
      ]
    }
  ],
  "metadata": {
    "colab": {
      "provenance": []
    },
    "kernelspec": {
      "display_name": "Python 3",
      "name": "python3"
    },
    "language_info": {
      "codemirror_mode": {
        "name": "ipython",
        "version": 3
      },
      "file_extension": ".py",
      "mimetype": "text/x-python",
      "name": "python",
      "nbconvert_exporter": "python",
      "pygments_lexer": "ipython3",
      "version": "3.13.7"
    }
  },
  "nbformat": 4,
  "nbformat_minor": 0
}
